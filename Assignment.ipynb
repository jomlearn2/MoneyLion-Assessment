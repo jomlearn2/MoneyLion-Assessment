{
 "cells": [
  {
   "cell_type": "markdown",
   "metadata": {},
   "source": [
    "# MoneyLion - Assignment"
   ]
  },
  {
   "cell_type": "markdown",
   "metadata": {},
   "source": [
    "### Problem Definition:\n",
    "\n",
    "Defaulting on loans, credits is one of the biggest challenges companies face in fintech, banking industry. Due to uncertainity, it's hard to eliminate risk of defaults completely but companies can surely mitigate their losses using intelligent risk assessment processes. Machine Learning has provided a sharp edge to companies in anticipating risks and evetually defaults.\n",
    "\n",
    "From the given data, we infer the following stages in a loan approval process:\n",
    "1. After the loan application is recieved, a team of automatic / human under-writers do risk assessment and approve the loan.\n",
    "2. After the loan is approved, it gets funded.\n",
    "\n",
    "From the business side, there's still a risk of default on funded loans ? What if the loan was approved, funded and yet the client defaulted. Solving this problem would eventually help us in the following ways:\n",
    "1. Know the chances of defaulting in advance\n",
    "2. Based on important features from model, use those feature as validation criteria in approval process, hence making the approval process more solid. \n",
    "\n",
    "Hence, in tnis problem, we are going to the predict the probability of loan default `loanStatus` out of funded loans."
   ]
  },
  {
   "cell_type": "code",
   "execution_count": 1,
   "metadata": {},
   "outputs": [],
   "source": [
    "# load libraries\n",
    "import pandas as pd\n",
    "import numpy as np\n",
    "\n",
    "import matplotlib.pyplot as plt\n",
    "%matplotlib inline\n",
    "import seaborn as sns"
   ]
  },
  {
   "cell_type": "code",
   "execution_count": 2,
   "metadata": {},
   "outputs": [],
   "source": [
    "loan = pd.read_csv('data/loan.csv', parse_dates=['applicationDate','originatedDate'])"
   ]
  },
  {
   "cell_type": "code",
   "execution_count": 3,
   "metadata": {},
   "outputs": [],
   "source": [
    "# consider only funded loans\n",
    "loan = loan[loan['isFunded'].eq(1)]"
   ]
  },
  {
   "cell_type": "code",
   "execution_count": 4,
   "metadata": {},
   "outputs": [
    {
     "data": {
      "text/plain": [
       "Paid Off Loan                  0.293135\n",
       "External Collection            0.290750\n",
       "New Loan                       0.208096\n",
       "Internal Collection            0.142733\n",
       "Returned Item                  0.030322\n",
       "Settlement Paid Off            0.018162\n",
       "Settled Bankruptcy             0.008337\n",
       "Pending Paid Off               0.004335\n",
       "Charged Off Paid Off           0.004079\n",
       "Settlement Pending Paid Off    0.000026\n",
       "Charged Off                    0.000026\n",
       "Name: loanStatus, dtype: float64"
      ]
     },
     "execution_count": 4,
     "metadata": {},
     "output_type": "execute_result"
    }
   ],
   "source": [
    "loan['loanStatus'].value_counts(normalize=True)"
   ]
  },
  {
   "cell_type": "markdown",
   "metadata": {},
   "source": [
    "### Create a target variable of loan-default\n",
    "\n",
    "We are going to use `loanStatus` as the target variable. But, we can't use it as is.\n",
    "We need to define it better for our use case. Since don't have enough information for different values of `loanStatus`, we will consider the levels which seem self-explanatory. <br />\n",
    "\n",
    "We will categorize the target variable into two classes:\n",
    "1. <b>Class 0:</b> consists of levels which signifiy that loan was paid\n",
    "2. <b>Class 1:</b> consists of levels which signifiy that loan was defaulted\n",
    "\n",
    "For `Class 1`, we will consider the following values:\n",
    "  * Settled Bankruptcy\n",
    "  * Charged Off: means the borrower has become delinquent in paying back.\n",
    "  \n",
    "For `Class 0`, we will consider the following values:\n",
    "  * Paid Off Loan\n",
    "  * Settlement Paid Off\n",
    "\n",
    "It makes this problem a binary classification problem."
   ]
  },
  {
   "cell_type": "code",
   "execution_count": 5,
   "metadata": {},
   "outputs": [],
   "source": [
    "# 1 is default\n",
    "labels = {1: ['Settled Bankruptcy','Charged Off'], \n",
    "          0:['Paid Off Loan','Settlement Paid Off']}\n",
    "\n",
    "def map_func(x):\n",
    "    \"\"\"\n",
    "    Check if loanStatus if present in the labels dict\n",
    "    params:\n",
    "    x = loanStatus, string\n",
    "    \n",
    "    returns: label (int)\n",
    "    \"\"\"\n",
    "    for k,v in labels.items():\n",
    "        if x in v:\n",
    "            return k"
   ]
  },
  {
   "cell_type": "code",
   "execution_count": 6,
   "metadata": {},
   "outputs": [],
   "source": [
    "loan['target'] = loan['loanStatus'].map(map_func)\n",
    "loan2 = loan[loan['target'].notna()].reset_index(drop=True)\n",
    "loan2['target'] = loan2['target'].astype(int)"
   ]
  },
  {
   "cell_type": "code",
   "execution_count": null,
   "metadata": {},
   "outputs": [],
   "source": [
    "prob_1 = loan['target'].value_counts(normalize=True)[0]\n",
    "prob_0 = loan['target'].value_counts(normalize=True)[1]"
   ]
  },
  {
   "cell_type": "markdown",
   "metadata": {
    "variables": {
     "prob_0": "0.02616162426771527"
    }
   },
   "source": [
    "In our dataset, we have only {{prob_0}} cases where customers have defaulted. This is a case of imbalanced classification."
   ]
  },
  {
   "cell_type": "markdown",
   "metadata": {},
   "source": [
    "## Data Exploration"
   ]
  },
  {
   "cell_type": "code",
   "execution_count": 8,
   "metadata": {},
   "outputs": [],
   "source": [
    "a, b = loan2.shape"
   ]
  },
  {
   "cell_type": "code",
   "execution_count": 13,
   "metadata": {
    "scrolled": true
   },
   "outputs": [
    {
     "data": {
      "text/plain": [
       "clarityFraudId                      0.204077\n",
       "nPaidOff                            0.000562\n",
       "target                              0.000000\n",
       "approved                            0.000000\n",
       "anon_ssn                            0.000000\n",
       "payFrequency                        0.000000\n",
       "apr                                 0.000000\n",
       "applicationDate                     0.000000\n",
       "originated                          0.000000\n",
       "originatedDate                      0.000000\n",
       "isFunded                            0.000000\n",
       "hasCF                               0.000000\n",
       "loanStatus                          0.000000\n",
       "loanAmount                          0.000000\n",
       "originallyScheduledPaymentAmount    0.000000\n",
       "state                               0.000000\n",
       "leadType                            0.000000\n",
       "leadCost                            0.000000\n",
       "fpStatus                            0.000000\n",
       "loanId                              0.000000\n",
       "dtype: float64"
      ]
     },
     "execution_count": 13,
     "metadata": {},
     "output_type": "execute_result"
    }
   ],
   "source": [
    "loan2.isna().sum(axis=0).sort_values(ascending=False) / loan2.shape[0]"
   ]
  },
  {
   "cell_type": "markdown",
   "metadata": {
    "variables": {
     "a": "12461",
     "b": "20"
    }
   },
   "source": [
    "There are multiple ways of exploring this data set (eg: Descriptive & Visual). We will proceed with the descriptive way to be able to follow the exact statistics of the data. Later we will look at some plots for visual understanding.\n",
    "\n",
    "The given data set belongs to a retail bank. It consist of  values {{a}} observations and {{b}} features. The given data set has few null values also. `clarityFraudId` has 20% missing values.\n",
    "\n",
    "Should we impute them ? `clarityFraudId` being an identification variable, we shouldn't worry about imputing it. Later we can drop this variable. Let's impute `nPaidOff` using its mode value."
   ]
  },
  {
   "cell_type": "code",
   "execution_count": 15,
   "metadata": {},
   "outputs": [],
   "source": [
    "# fill na in nPaidOff by mode value\n",
    "loan2['nPaidOff'] = loan2['nPaidOff'].fillna(0)"
   ]
  },
  {
   "cell_type": "markdown",
   "metadata": {},
   "source": [
    "Let's look at the distribution of some variables."
   ]
  },
  {
   "cell_type": "code",
   "execution_count": 18,
   "metadata": {
    "scrolled": false
   },
   "outputs": [
    {
     "name": "stderr",
     "output_type": "stream",
     "text": [
      "/anaconda3/envs/bunnies/lib/python3.7/site-packages/scipy/stats/stats.py:1713: FutureWarning: Using a non-tuple sequence for multidimensional indexing is deprecated; use `arr[tuple(seq)]` instead of `arr[seq]`. In the future this will be interpreted as an array index, `arr[np.array(seq)]`, which will result either in an error or a different result.\n",
      "  return np.add.reduce(sorted[indexer] * weights, axis=axis) / sumval\n"
     ]
    },
    {
     "data": {
      "text/plain": [
       "<matplotlib.axes._subplots.AxesSubplot at 0x1a208a8668>"
      ]
     },
     "execution_count": 18,
     "metadata": {},
     "output_type": "execute_result"
    },
    {
     "data": {
      "image/png": "[encoded data removed]",
      "text/plain": [
       "<Figure size 1152x432 with 1 Axes>"
      ]
     },
     "metadata": {
      "needs_background": "light"
     },
     "output_type": "display_data"
    }
   ],
   "source": [
    "plt.figure(figsize=(16, 6))\n",
    "sns.distplot(loan2['loanAmount'], color='m')"
   ]
  },
  {
   "cell_type": "markdown",
   "metadata": {},
   "source": [
    "We see the `loanAmount` is a right skewed variable. Let's see how `loanAmount` varies for each target variable value."
   ]
  },
  {
   "cell_type": "code",
   "execution_count": 24,
   "metadata": {},
   "outputs": [
    {
     "data": {
      "text/plain": [
       "<matplotlib.axes._subplots.AxesSubplot at 0x1a2161ec88>"
      ]
     },
     "execution_count": 24,
     "metadata": {},
     "output_type": "execute_result"
    },
    {
     "data": {
      "image/png": "[encoded data removed]",
      "text/plain": [
       "<Figure size 1152x432 with 1 Axes>"
      ]
     },
     "metadata": {
      "needs_background": "light"
     },
     "output_type": "display_data"
    }
   ],
   "source": [
    "plt.figure(figsize=(16, 6))\n",
    "sns.boxplot(x = 'target',\n",
    "            y=\"loanAmount\",\n",
    "            data=loan2)"
   ]
  },
  {
   "cell_type": "markdown",
   "metadata": {},
   "source": [
    "It's hard to infer a siginificant difference between the two classes except `class 0` has more outliers. Let's look at at the data in a descriptive way:"
   ]
  },
  {
   "cell_type": "code",
   "execution_count": 29,
   "metadata": {},
   "outputs": [
    {
     "name": "stdout",
     "output_type": "stream",
     "text": [
      "applicationDate\n",
      "----------------------------------------------------------------------------------------------------\n",
      "        count unique                         top freq  \\\n",
      "target                                                  \n",
      "0       12135  12134  2015-02-20 17:16:24.718000    2   \n",
      "1         326    326  2015-10-27 22:07:58.723000    1   \n",
      "\n",
      "                             first                        last  \n",
      "target                                                          \n",
      "0       2014-12-03 00:31:22.306000  2017-03-18 23:34:27.369000  \n",
      "1       2015-02-13 18:35:34.286000  2017-03-17 20:49:59.334000  \n",
      "****************************************************************************************************\n",
      "approved\n",
      "----------------------------------------------------------------------------------------------------\n",
      "        count unique   top   freq\n",
      "target                           \n",
      "0       12135      1  True  12135\n",
      "1         326      1  True    326\n",
      "****************************************************************************************************\n",
      "apr\n",
      "----------------------------------------------------------------------------------------------------\n",
      "          count        mean         std    min    25%    50%    75%    95%  \\\n",
      "target                                                                       \n",
      "0       12135.0  509.688685  117.128702    0.0  390.0  565.0  590.0  650.0   \n",
      "1         326.0  481.325661  121.219038  159.0  360.0  495.0  590.0  625.0   \n",
      "\n",
      "          99%     max  \n",
      "target                 \n",
      "0       681.0  705.59  \n",
      "1       672.5  681.00  \n",
      "****************************************************************************************************\n",
      "fpStatus\n",
      "----------------------------------------------------------------------------------------------------\n",
      "fpStatus  Cancelled   Checked  Rejected   Skipped\n",
      "target                                           \n",
      "0          0.016811  0.953523  0.024887  0.004780\n",
      "1          0.012270  0.825153  0.144172  0.018405\n",
      "hasCF\n",
      "----------------------------------------------------------------------------------------------------\n",
      "          count      mean       std  min  25%  50%  75%  95%  99%  max\n",
      "target                                                                \n",
      "0       12135.0  0.793902  0.404518  0.0  1.0  1.0  1.0  1.0  1.0  1.0\n",
      "1         326.0  0.871166  0.335532  0.0  1.0  1.0  1.0  1.0  1.0  1.0\n",
      "****************************************************************************************************\n",
      "isFunded\n",
      "----------------------------------------------------------------------------------------------------\n",
      "          count  mean  std  min  25%  50%  75%  95%  99%  max\n",
      "target                                                       \n",
      "0       12135.0   1.0  0.0  1.0  1.0  1.0  1.0  1.0  1.0  1.0\n",
      "1         326.0   1.0  0.0  1.0  1.0  1.0  1.0  1.0  1.0  1.0\n",
      "****************************************************************************************************\n",
      "leadCost\n",
      "----------------------------------------------------------------------------------------------------\n",
      "          count       mean        std  min  25%  50%   75%   95%    99%    max\n",
      "target                                                                        \n",
      "0       12135.0  12.040874  24.730693  0.0  0.0  3.0  10.0  60.0  100.0  200.0\n",
      "1         326.0  14.677914  25.345076  0.0  0.0  4.5  10.0  75.0  115.0  200.0\n",
      "****************************************************************************************************\n",
      "leadType\n",
      "----------------------------------------------------------------------------------------------------\n",
      "leadType  bvMandatory  california   express  instant-offer      lead  \\\n",
      "target                                                                 \n",
      "0            0.388463    0.002060  0.000742       0.000082  0.221261   \n",
      "1            0.460123    0.003067       NaN            NaN  0.266871   \n",
      "\n",
      "leadType   lionpay   organic  prescreen  rc_returning    repeat  \n",
      "target                                                           \n",
      "0         0.000824  0.291965   0.042027      0.052081  0.000494  \n",
      "1              NaN  0.205521   0.055215      0.009202       NaN  \n",
      "loanAmount\n",
      "----------------------------------------------------------------------------------------------------\n",
      "          count        mean         std    min    25%    50%    75%     95%  \\\n",
      "target                                                                        \n",
      "0       12135.0  628.239308  450.792118  100.0  350.0  500.0  700.0  1500.0   \n",
      "1         326.0  668.668712  485.565308  200.0  400.0  500.0  800.0  1500.0   \n",
      "\n",
      "           99%     max  \n",
      "target                  \n",
      "0       3000.0  4687.0  \n",
      "1       2912.5  3000.0  \n",
      "****************************************************************************************************\n",
      "loanStatus\n",
      "----------------------------------------------------------------------------------------------------\n",
      "loanStatus  Charged Off  Paid Off Loan  Settled Bankruptcy  \\\n",
      "target                                                       \n",
      "0                   NaN       0.941656                 NaN   \n",
      "1              0.003067            NaN            0.996933   \n",
      "\n",
      "loanStatus  Settlement Paid Off  \n",
      "target                           \n",
      "0                      0.058344  \n",
      "1                           NaN  \n",
      "nPaidOff\n",
      "----------------------------------------------------------------------------------------------------\n",
      "          count      mean       std  min  25%  50%  75%  95%   99%   max\n",
      "target                                                                  \n",
      "0       12135.0  0.597116  1.401667  0.0  0.0  0.0  1.0  3.0  6.00  21.0\n",
      "1         326.0  0.328221  0.788144  0.0  0.0  0.0  0.0  2.0  3.75   6.0\n",
      "****************************************************************************************************\n",
      "originallyScheduledPaymentAmount\n",
      "----------------------------------------------------------------------------------------------------\n",
      "          count         mean          std     min      25%       50%      75%  \\\n",
      "target                                                                          \n",
      "0       12135.0  1660.295432  1200.762347  188.41  949.455  1303.620  1942.56   \n",
      "1         326.0  1713.532853  1278.321699  481.95  995.055  1327.195  1974.01   \n",
      "\n",
      "              95%        99%       max  \n",
      "target                                  \n",
      "0       3624.3900  6814.2056  12550.08  \n",
      "1       3995.0125  6901.1975   9380.70  \n",
      "****************************************************************************************************\n",
      "originated\n",
      "----------------------------------------------------------------------------------------------------\n",
      "        count unique   top   freq\n",
      "target                           \n",
      "0       12135      1  True  12135\n",
      "1         326      1  True    326\n",
      "****************************************************************************************************\n",
      "originatedDate\n",
      "----------------------------------------------------------------------------------------------------\n",
      "        count unique                         top freq  \\\n",
      "target                                                  \n",
      "0       12135  12134  2015-02-20 19:40:33.329000    2   \n",
      "1         326    326  2015-08-26 19:22:48.157000    1   \n",
      "\n",
      "                             first                        last  \n",
      "target                                                          \n",
      "0       2014-12-03 03:12:58.466000  2017-03-23 22:51:38.921000  \n",
      "1       2015-04-07 19:06:12.290000  2017-03-17 21:00:25.361000  \n",
      "****************************************************************************************************\n",
      "payFrequency\n",
      "----------------------------------------------------------------------------------------------------\n",
      "payFrequency         B         I         M         S         W\n",
      "target                                                        \n",
      "0             0.588546  0.024227  0.078039  0.058261  0.250927\n",
      "1             0.622699  0.021472  0.042945  0.067485  0.245399\n",
      "state\n",
      "----------------------------------------------------------------------------------------------------\n",
      "state         AL        AZ        CA        CO        CT        DE        FL  \\\n",
      "target                                                                         \n",
      "0       0.003131  0.011125  0.035105  0.001978  0.007334  0.000906  0.029584   \n",
      "1            NaN  0.006135  0.049080       NaN       NaN       NaN       NaN   \n",
      "\n",
      "state         GA        HI        IA    ...           RI        SC        SD  \\\n",
      "target                                  ...                                    \n",
      "0       0.001731  0.000742  0.001731    ...     0.000824  0.023074  0.002225   \n",
      "1            NaN       NaN       NaN    ...          NaN  0.006135       NaN   \n",
      "\n",
      "state         TN        TX        UT        VA       WA        WI        WY  \n",
      "target                                                                       \n",
      "0       0.031479  0.056119  0.004120  0.007005  0.00478  0.099135  0.002225  \n",
      "1       0.061350  0.024540  0.015337  0.012270      NaN  0.101227       NaN  \n",
      "\n",
      "[2 rows x 40 columns]\n",
      "target\n",
      "----------------------------------------------------------------------------------------------------\n",
      "          count  mean  std  min  25%  50%  75%  95%  99%  max\n",
      "target                                                       \n",
      "0       12135.0   0.0  0.0  0.0  0.0  0.0  0.0  0.0  0.0  0.0\n",
      "1         326.0   1.0  0.0  1.0  1.0  1.0  1.0  1.0  1.0  1.0\n",
      "****************************************************************************************************\n"
     ]
    }
   ],
   "source": [
    "# view statistics of all features except id features\n",
    "vals = ['loanId','clarityFraudId','anon_ssn']\n",
    "for x in loan2.columns.difference(vals):\n",
    "    print(x)\n",
    "    print('-'*100)\n",
    "    if loan2[x].dtype != 'object':\n",
    "        print(loan2.groupby('target')[x].describe(percentiles=[.25,.5,.75,.95,.99]))\n",
    "        print('*'*100)\n",
    "    else:\n",
    "        print(loan2.groupby('target')[x].value_counts(normalize=True, ascending=False, sort=True).unstack())"
   ]
  },
  {
   "cell_type": "markdown",
   "metadata": {},
   "source": [
    "Following are some quick insights we can generate from stats above:\n",
    "1. 14% of the first payment done in defaulted loans got rejected as compared to 2% in non-defaulted loans.\n",
    "2. Interesting to see that, the mean `leadCost` for defaulted loans is higher than non-default.\n",
    "3. 46% of the defaulted-loans come from `leadType == bvMandatory`.\n",
    "4. Clients in defaulted-class have `nPaidOff` mean of 0.32 as compared to 0.59 for non-defaulted loans. It means defaulted clients have lesser paid off loans in past."
   ]
  },
  {
   "cell_type": "markdown",
   "metadata": {},
   "source": [
    "### Use information from clarityfraud file"
   ]
  },
  {
   "cell_type": "markdown",
   "metadata": {},
   "source": [
    "For now, we are going to use only `clearfraudscore` for this file."
   ]
  },
  {
   "cell_type": "code",
   "execution_count": 35,
   "metadata": {
    "scrolled": true
   },
   "outputs": [
    {
     "name": "stderr",
     "output_type": "stream",
     "text": [
      "/anaconda3/envs/bunnies/lib/python3.7/site-packages/IPython/core/interactiveshell.py:3049: DtypeWarning: Columns (9,11,12,13,14,15,16,17,18,19,20,21,22,23,25,26,27,28,29,31,32,33,36,37) have mixed types. Specify dtype option on import or set low_memory=False.\n",
      "  interactivity=interactivity, compiler=compiler, result=result)\n"
     ]
    }
   ],
   "source": [
    "clarity = pd.read_csv(\"data/clarity_underwriting_variables.csv\")"
   ]
  },
  {
   "cell_type": "code",
   "execution_count": 36,
   "metadata": {},
   "outputs": [],
   "source": [
    "loan2 = loan2.merge(clarity[['underwritingid','clearfraudscore']], \n",
    "                    left_on='clarityFraudId', \n",
    "                    right_on='underwritingid', \n",
    "                    how='left')"
   ]
  },
  {
   "cell_type": "code",
   "execution_count": 43,
   "metadata": {},
   "outputs": [
    {
     "name": "stderr",
     "output_type": "stream",
     "text": [
      "/anaconda3/envs/bunnies/lib/python3.7/site-packages/scipy/stats/stats.py:1713: FutureWarning: Using a non-tuple sequence for multidimensional indexing is deprecated; use `arr[tuple(seq)]` instead of `arr[seq]`. In the future this will be interpreted as an array index, `arr[np.array(seq)]`, which will result either in an error or a different result.\n",
      "  return np.add.reduce(sorted[indexer] * weights, axis=axis) / sumval\n"
     ]
    },
    {
     "data": {
      "text/plain": [
       "<matplotlib.axes._subplots.AxesSubplot at 0x1a216ee7f0>"
      ]
     },
     "execution_count": 43,
     "metadata": {},
     "output_type": "execute_result"
    },
    {
     "data": {
      "image/png": "[encoded data removed]",
      "text/plain": [
       "<Figure size 432x288 with 1 Axes>"
      ]
     },
     "metadata": {
      "needs_background": "light"
     },
     "output_type": "display_data"
    }
   ],
   "source": [
    "sns.distplot(loan2.loc[loan2['clearfraudscore'].notna(), 'clearfraudscore'])"
   ]
  },
  {
   "cell_type": "code",
   "execution_count": 40,
   "metadata": {
    "scrolled": false
   },
   "outputs": [
    {
     "data": {
      "text/plain": [
       "<matplotlib.axes._subplots.AxesSubplot at 0x1a2161e588>"
      ]
     },
     "execution_count": 40,
     "metadata": {},
     "output_type": "execute_result"
    },
    {
     "data": {
      "image/png": "[encoded data removed]",
      "text/plain": [
       "<Figure size 1152x432 with 1 Axes>"
      ]
     },
     "metadata": {
      "needs_background": "light"
     },
     "output_type": "display_data"
    }
   ],
   "source": [
    "plt.figure(figsize=(16, 6))\n",
    "sns.boxplot(x = 'target',\n",
    "            y=\"clearfraudscore\",\n",
    "            data=loan2.loc[loan2['clearfraudscore'].notna()])"
   ]
  },
  {
   "cell_type": "markdown",
   "metadata": {},
   "source": [
    "In the histogram, we see that unlike `loanAmount`, `clearfraudscore` is a left skewed variable. We also see that, defaulted-loans have higher minimum value for fraud score, starting around 350 as compared to non-defaulted loans where lower bound of fraud score is below 200. "
   ]
  },
  {
   "cell_type": "markdown",
   "metadata": {},
   "source": [
    "Let's look at one more case. We are going to see how `clearfraudscore` varies with `nPaidOff` for each of defaulted and non-defaulted loans."
   ]
  },
  {
   "cell_type": "code",
   "execution_count": 126,
   "metadata": {},
   "outputs": [
    {
     "data": {
      "text/plain": [
       "<matplotlib.axes._subplots.AxesSubplot at 0x1a43f450b8>"
      ]
     },
     "execution_count": 126,
     "metadata": {},
     "output_type": "execute_result"
    },
    {
     "data": {
      "image/png": "[encoded data removed]",
      "text/plain": [
       "<Figure size 1152x432 with 1 Axes>"
      ]
     },
     "metadata": {
      "needs_background": "light"
     },
     "output_type": "display_data"
    }
   ],
   "source": [
    "plt.figure(figsize=(16, 6))\n",
    "sns.boxplot(x=\"nPaidOff\", y=\"clearfraudscore\",\n",
    "            hue=\"target\", palette=[\"m\", \"g\"],\n",
    "            data=loan2[loan2['clearfraudscore'].notna()])"
   ]
  },
  {
   "cell_type": "markdown",
   "metadata": {},
   "source": [
    "We see that defaulted-loans have `nPaidOff` less than 3 times. On the contrary, we see that people who have paid more (> 6) loans in the past have higher median value for `clearfraudscore`. Since we don't have enough information on this feature, it's hard to come to a conclusion for this behaviour."
   ]
  },
  {
   "cell_type": "markdown",
   "metadata": {},
   "source": [
    "## Feature Engineering"
   ]
  },
  {
   "cell_type": "markdown",
   "metadata": {},
   "source": [
    "After exploring features and understanding their behaviour, now let's create some new features which will can provide more information to our model."
   ]
  },
  {
   "cell_type": "code",
   "execution_count": 44,
   "metadata": {},
   "outputs": [],
   "source": [
    "# No. of loans by ssn\n",
    "loan2['loan_count_per_ssn'] = loan2['anon_ssn'].map(loan2.groupby('anon_ssn')['loanId'].count()).astype(int)"
   ]
  },
  {
   "cell_type": "code",
   "execution_count": 45,
   "metadata": {},
   "outputs": [],
   "source": [
    "# date features\n",
    "loan2['time_taken'] = (loan2['originatedDate'] - loan2['applicationDate']).astype('timedelta64[h]').astype(int)\n",
    "loan2['origin_weekday'] = loan2['originatedDate'].dt.weekday\n",
    "loan2['accepted_weekday'] = loan2['applicationDate'].dt.weekday\n",
    "loan2['origin_day'] = loan2['originatedDate'].dt.day\n",
    "loan2['accepted_day'] = loan2['applicationDate'].dt.day"
   ]
  },
  {
   "cell_type": "markdown",
   "metadata": {},
   "source": [
    "Let's pick one of the features and see if they make sense."
   ]
  },
  {
   "cell_type": "code",
   "execution_count": 48,
   "metadata": {},
   "outputs": [
    {
     "data": {
      "text/plain": [
       "<seaborn.axisgrid.FacetGrid at 0x1a20efeac8>"
      ]
     },
     "execution_count": 48,
     "metadata": {},
     "output_type": "execute_result"
    },
    {
     "data": {
      "text/plain": [
       "<Figure size 1152x432 with 0 Axes>"
      ]
     },
     "metadata": {},
     "output_type": "display_data"
    },
    {
     "data": {
      "image/png": "[encoded data removed]",
      "text/plain": [
       "<Figure size 402.375x360 with 1 Axes>"
      ]
     },
     "metadata": {
      "needs_background": "light"
     },
     "output_type": "display_data"
    }
   ],
   "source": [
    "plt.figure(figsize=(16, 6))\n",
    "sns.lmplot(\"origin_day\", \"accepted_day\", data=loan2, hue='target')"
   ]
  },
  {
   "cell_type": "markdown",
   "metadata": {},
   "source": [
    "The straight line is highly dominated by `class 1` which means that loans which are applied and accepted nearly the same day have high default possibility. May be the human approvers process some loans in hurry to meet their targets ? This should be an important feature for the model."
   ]
  },
  {
   "cell_type": "code",
   "execution_count": 50,
   "metadata": {},
   "outputs": [],
   "source": [
    "# no of past paid loans by client\n",
    "loan2['no_paid_off_by_client'] = loan2['anon_ssn'].map(loan.groupby('anon_ssn')['nPaidOff'].sum()).astype(int)"
   ]
  },
  {
   "cell_type": "markdown",
   "metadata": {},
   "source": [
    "### Encode the categorical variables"
   ]
  },
  {
   "cell_type": "markdown",
   "metadata": {},
   "source": [
    "Since model accept numeric variables, we need to encode string values into numeric."
   ]
  },
  {
   "cell_type": "code",
   "execution_count": 49,
   "metadata": {},
   "outputs": [],
   "source": [
    "from sklearn.preprocessing import LabelEncoder"
   ]
  },
  {
   "cell_type": "code",
   "execution_count": 51,
   "metadata": {},
   "outputs": [],
   "source": [
    "var = ['payFrequency','leadType','fpStatus','state']\n",
    "\n",
    "for i in var:\n",
    "    lbl = LabelEncoder()\n",
    "    loan2[i + '_en'] = lbl.fit_transform(loan2[i])"
   ]
  },
  {
   "cell_type": "code",
   "execution_count": 52,
   "metadata": {},
   "outputs": [],
   "source": [
    "all_vars = ['clarityFraudId','underwritingid','originated','approved','isFunded','loanStatus','applicationDate','originatedDate','anon_ssn']"
   ]
  },
  {
   "cell_type": "code",
   "execution_count": 53,
   "metadata": {},
   "outputs": [],
   "source": [
    "# variables not to be used\n",
    "loan2 = loan2.drop(var + all_vars, axis=1)"
   ]
  },
  {
   "cell_type": "markdown",
   "metadata": {},
   "source": [
    "### Use some info payment file"
   ]
  },
  {
   "cell_type": "markdown",
   "metadata": {},
   "source": [
    "For a quick model, we are going to use only `paymentStatus` information from this file. We are going to count the occurence of `paymentStatus` for each `loanId`."
   ]
  },
  {
   "cell_type": "code",
   "execution_count": 54,
   "metadata": {},
   "outputs": [],
   "source": [
    "payment = pd.read_csv('data/payment.csv', parse_dates=['paymentDate'])"
   ]
  },
  {
   "cell_type": "code",
   "execution_count": 55,
   "metadata": {},
   "outputs": [],
   "source": [
    "# create payment status feature for each loan id\n",
    "payment['val'] = 1\n",
    "\n",
    "pay_status = (payment\n",
    " .pivot_table(index=['loanId'], columns=['paymentStatus'], values='val', aggfunc=sum, fill_value=0)\n",
    " .reset_index()\n",
    ")\n",
    "\n",
    "pay_status.columns.name = None"
   ]
  },
  {
   "cell_type": "code",
   "execution_count": 56,
   "metadata": {},
   "outputs": [],
   "source": [
    "loan2 = (loan2\n",
    "         .merge(pay_status, on='loanId', how='left')\n",
    "         .drop(['loanId'], axis=1))"
   ]
  },
  {
   "cell_type": "markdown",
   "metadata": {},
   "source": [
    "## Prediction Model"
   ]
  },
  {
   "cell_type": "markdown",
   "metadata": {},
   "source": [
    "We are now ready to train a model. We are going to use a gradient boosting model because of the following reasons:\n",
    "1. We saw that the some variables are highly skewed. Tree based models are robust to skewness. \n",
    "2. The data has some null values, tree based models are robust to null values.\n",
    "3. Tree based models are robust to outliers, we don't need to worry about them.\n",
    "4. Tree based model can detect the non-linear behaviour in the data, thus providing better predictions than linear model\n",
    "\n",
    "We are going to do a 70-30 split for train and validation data respectively."
   ]
  },
  {
   "cell_type": "code",
   "execution_count": 261,
   "metadata": {},
   "outputs": [],
   "source": [
    "# import libraries\n",
    "from sklearn.model_selection import train_test_split\n",
    "import lightgbm as lgb"
   ]
  },
  {
   "cell_type": "code",
   "execution_count": 262,
   "metadata": {},
   "outputs": [],
   "source": [
    "data = loan2.copy()"
   ]
  },
  {
   "cell_type": "code",
   "execution_count": 263,
   "metadata": {},
   "outputs": [],
   "source": [
    "# split into train and test\n",
    "target = data['target']\n",
    "X_train, X_valid, y_train, y_valid = train_test_split(data, target, test_size = 0.3, stratify = target)\n",
    "\n",
    "X_train = X_train.drop(['target'], axis=1)\n",
    "X_valid = X_valid.drop(['target'], axis=1)"
   ]
  },
  {
   "cell_type": "code",
   "execution_count": 264,
   "metadata": {},
   "outputs": [],
   "source": [
    "## params values after parameter tuning\n",
    "param = {\n",
    "    'num_leaves': 18,\n",
    "     'max_bin': 63,\n",
    "     'min_data_in_leaf': 5,\n",
    "     'learning_rate': 0.010614430970330217,\n",
    "     'min_sum_hessian_in_leaf': 0.0093586657313989123,\n",
    "     'feature_fraction': 0.056701788569420042,\n",
    "     'lambda_l1': 0.060222413158420585,\n",
    "     'lambda_l2': 4.6580550589317573,\n",
    "     'min_gain_to_split': 0.29588543202055562,\n",
    "     'max_depth': 49,\n",
    "     'save_binary': True,\n",
    "     'seed': 1337,\n",
    "     'feature_fraction_seed': 1337,\n",
    "     'bagging_seed': 1337,\n",
    "     'drop_seed': 1337,\n",
    "     'data_random_seed': 1337,\n",
    "     'objective': 'binary',\n",
    "     'boosting_type': 'gbdt',\n",
    "     'verbose': 1,\n",
    "     'metric': 'auc',\n",
    "     'is_unbalance': True,\n",
    "     'boost_from_average': False\n",
    "}"
   ]
  },
  {
   "cell_type": "code",
   "execution_count": 265,
   "metadata": {},
   "outputs": [],
   "source": [
    "xg_train = lgb.Dataset(X_train.values,\n",
    "                           label=y_train.values,\n",
    "                           feature_name=X_train.columns.tolist(),\n",
    "                           free_raw_data = False\n",
    "                           )\n",
    "xg_valid = lgb.Dataset(X_valid.values,\n",
    "                       label=y_valid.values,\n",
    "                       feature_name=X_train.columns.tolist(),\n",
    "                       free_raw_data = False\n",
    "                       )   "
   ]
  },
  {
   "cell_type": "code",
   "execution_count": 271,
   "metadata": {
    "scrolled": true
   },
   "outputs": [
    {
     "name": "stdout",
     "output_type": "stream",
     "text": [
      "Training until validation scores don't improve for 400 rounds.\n",
      "[100]\ttraining's auc: 0.924248\tvalid_1's auc: 0.871935\n",
      "[200]\ttraining's auc: 0.930348\tvalid_1's auc: 0.8878\n",
      "[300]\ttraining's auc: 0.934649\tvalid_1's auc: 0.885194\n",
      "[400]\ttraining's auc: 0.939455\tvalid_1's auc: 0.8878\n",
      "[500]\ttraining's auc: 0.947693\tvalid_1's auc: 0.896925\n",
      "[600]\ttraining's auc: 0.952292\tvalid_1's auc: 0.905655\n",
      "[700]\ttraining's auc: 0.955421\tvalid_1's auc: 0.907774\n",
      "[800]\ttraining's auc: 0.958395\tvalid_1's auc: 0.910857\n",
      "[900]\ttraining's auc: 0.960886\tvalid_1's auc: 0.911823\n",
      "[1000]\ttraining's auc: 0.963575\tvalid_1's auc: 0.912241\n",
      "[1100]\ttraining's auc: 0.966174\tvalid_1's auc: 0.914085\n",
      "[1200]\ttraining's auc: 0.96772\tvalid_1's auc: 0.913412\n",
      "[1300]\ttraining's auc: 0.968917\tvalid_1's auc: 0.913995\n",
      "[1400]\ttraining's auc: 0.970113\tvalid_1's auc: 0.913953\n",
      "[1500]\ttraining's auc: 0.971112\tvalid_1's auc: 0.91494\n",
      "[1600]\ttraining's auc: 0.971985\tvalid_1's auc: 0.914934\n",
      "[1700]\ttraining's auc: 0.972865\tvalid_1's auc: 0.916083\n",
      "[1800]\ttraining's auc: 0.973249\tvalid_1's auc: 0.916588\n",
      "[1900]\ttraining's auc: 0.974068\tvalid_1's auc: 0.916585\n",
      "[2000]\ttraining's auc: 0.974464\tvalid_1's auc: 0.917207\n",
      "[2100]\ttraining's auc: 0.974995\tvalid_1's auc: 0.917179\n",
      "[2200]\ttraining's auc: 0.975461\tvalid_1's auc: 0.917487\n",
      "[2300]\ttraining's auc: 0.976071\tvalid_1's auc: 0.91749\n",
      "[2400]\ttraining's auc: 0.976699\tvalid_1's auc: 0.917913\n",
      "[2500]\ttraining's auc: 0.977247\tvalid_1's auc: 0.918185\n",
      "[2600]\ttraining's auc: 0.977745\tvalid_1's auc: 0.918367\n",
      "[2700]\ttraining's auc: 0.97841\tvalid_1's auc: 0.917616\n",
      "[2800]\ttraining's auc: 0.978807\tvalid_1's auc: 0.917437\n",
      "[2900]\ttraining's auc: 0.979315\tvalid_1's auc: 0.917386\n",
      "[3000]\ttraining's auc: 0.979818\tvalid_1's auc: 0.917574\n",
      "Early stopping, best iteration is:\n",
      "[2610]\ttraining's auc: 0.977834\tvalid_1's auc: 0.918482\n"
     ]
    }
   ],
   "source": [
    "clf = lgb.train(param, \n",
    "                xg_train,\n",
    "                5000, \n",
    "                valid_sets = [xg_train, xg_valid], \n",
    "                verbose_eval=100,\n",
    "                early_stopping_rounds=400)"
   ]
  },
  {
   "cell_type": "markdown",
   "metadata": {},
   "source": [
    "<strong>Note:</strong> We see that the model returns 0.91 AUC score on validation set. We are using AUC here because:\n",
    "1. Since it's an imbalanced problem, for our case, we need to be sure about false negatives. We can`t use a global metric such as accuracy since it would capture the overall performance of the model and not on a per class basis.\n",
    "2. AUC will help us detect the false positive, because usually for companies commiting false negatives have high business cost."
   ]
  },
  {
   "cell_type": "markdown",
   "metadata": {},
   "source": [
    "## Feature Importance"
   ]
  },
  {
   "cell_type": "code",
   "execution_count": 272,
   "metadata": {},
   "outputs": [
    {
     "data": {
      "image/png": "[encoded data removed]",
      "text/plain": [
       "<Figure size 1440x720 with 1 Axes>"
      ]
     },
     "metadata": {
      "needs_background": "light"
     },
     "output_type": "display_data"
    }
   ],
   "source": [
    "feature_imp = pd.DataFrame(sorted(zip(clf.feature_importance(),X_train.columns)), columns=['Value','Feature'])\n",
    "\n",
    "plt.figure(figsize=(20, 10))\n",
    "sns.barplot(x=\"Value\", y=\"Feature\", data=feature_imp.sort_values(by=\"Value\", ascending=False))\n",
    "plt.title('LightGBM Features')\n",
    "plt.show()"
   ]
  },
  {
   "cell_type": "markdown",
   "metadata": {},
   "source": [
    "## Summary"
   ]
  },
  {
   "cell_type": "markdown",
   "metadata": {},
   "source": [
    "In this report, we achieved 0.91 AUC score in determining whether a loan will be defaulted or not. We explored past loan performance and understood i.e. what kind of people are more likely to default. We also learned that the given problem is an imbalanced problem, hence we need to very careful in deciding model evaluation. We cannot use global metrics like accuracy which are mis-leading in this case."
   ]
  },
  {
   "cell_type": "markdown",
   "metadata": {},
   "source": [
    "## Next Steps\n",
    "1. Get more data on `loanIds` which are funded. \n",
    "1. Use more information `clarity_underwriting` file and train a model using all those features.\n",
    "2. Do more feature engineering\n",
    "   * Create more aggregated features by `client_id`, `state`, `payFrequency`.\n",
    "   * Create more aggregated features from `payment` file.\n",
    "3. Do feature selection. Based on feature importance discard variables which aren't important.\n",
    "4. Try different models\n",
    "5. Ensemble models: train different models and average their predictions.\n",
    "6. Stack Models: train different models and use their predictions as features in another model."
   ]
  },
  {
   "cell_type": "code",
   "execution_count": null,
   "metadata": {},
   "outputs": [],
   "source": []
  },
  {
   "cell_type": "code",
   "execution_count": null,
   "metadata": {},
   "outputs": [],
   "source": []
  },
  {
   "cell_type": "code",
   "execution_count": null,
   "metadata": {},
   "outputs": [],
   "source": []
  }
 ],
 "metadata": {
  "kernelspec": {
   "display_name": "Python Bunnies",
   "language": "python",
   "name": "python3"
  },
  "language_info": {
   "codemirror_mode": {
    "name": "ipython",
    "version": 3
   },
   "file_extension": ".py",
   "mimetype": "text/x-python",
   "name": "python",
   "nbconvert_exporter": "python",
   "pygments_lexer": "ipython3",
   "version": "3.7.2"
  }
 },
 "nbformat": 4,
 "nbformat_minor": 2
}
